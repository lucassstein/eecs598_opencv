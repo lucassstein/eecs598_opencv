{
 "cells": [
  {
   "cell_type": "code",
   "execution_count": 1,
   "metadata": {},
   "outputs": [
    {
     "name": "stdout",
     "output_type": "stream",
     "text": [
      "pygame 2.5.2 (SDL 2.28.3, Python 3.11.5)\n",
      "Hello from the pygame community. https://www.pygame.org/contribute.html\n",
      "woo woo\n"
     ]
    }
   ],
   "source": [
    "import pygame as pg, pygamebg, math\n",
    "import numpy as np\n",
    "from screeninfo import get_monitors\n",
    "import tkinter as tk\n",
    "import sys\n",
    "\n",
    "root = tk.Tk()\n",
    "width = root.winfo_screenwidth()\n",
    "height = root.winfo_screenheight()\n",
    "\n",
    "\n",
    "def angle_offset(screen_center, circle_center, cursor, screen_dist):\n",
    "    \n",
    "    x_dist = np.sqrt((circle_center[0] - screen_center[0])**2 + (circle_center[1] - screen_center[1])**2)\n",
    "    x_dist = x_dist * 0.0264583333\n",
    "    \n",
    "    y_dist = np.sqrt((cursor[0] - circle_center[0])**2 + (cursor[1] - circle_center[1])**2)\n",
    "    y_dist = y_dist * 0.0264583333\n",
    "    \n",
    "    alpha = np.sqrt((cursor[0] - screen_center[0])**2 + (cursor[1] - screen_center[1])**2)\n",
    "    alpha = alpha * 0.0264583333\n",
    "    \n",
    "    d = np.sqrt(x_dist**2 + screen_dist**2)\n",
    "    r = np.sqrt(alpha**2 + screen_dist**2)\n",
    "\n",
    "    theta = math.acos((d**2 + r**2 - y_dist**2)/(2*d*r))\n",
    "    theta = math.degrees(theta)\n",
    "    return theta\n",
    "    \n",
    "#global x, y\n",
    "\n",
    "\n",
    "(x, y) = (width//2, height//2) # ball position\n",
    "canvas = pygamebg.open_window(width, height, \"calibration screen\")\n",
    "canvas.fill(pg.Color(\"white\")) \n",
    "\n",
    "screen_dist = 15.24 #this should be in cm\n",
    "ix, iy = int(x), int(y)\n",
    "circle_center = (ix,iy)\n",
    "screen_center = (width/2,height/2) #need to figure out how to get this\n",
    "\n",
    "pg.draw.circle(canvas, pg.Color(\"red\"), (ix, iy), 10)\n",
    "font = pg.font.Font('freesansbold.ttf', 18)\n",
    "text = font.render('Move your cursor to the circle and press the letter w when done', True, pg.Color(\"black\"))\n",
    "canvas.blit(text, (ix-200,iy-200)) #adds the text\n",
    "\n",
    "\n",
    "\n",
    "\n",
    "if pg.key.get_pressed()[pg.K_w]:\n",
    "    xm, ym = pg.mouse.get_pos()\n",
    "    cursor_loc = (xm,ym)\n",
    "    angular_offset = angle_offset(screen_center, circle_center, cursor_loc, screen_dist)\n",
    "    print(angular_offset)\n",
    "        \n",
    "        \n",
    "\n",
    "\n",
    "print(\"woo woo\")\n",
    "#pg.display.quit()\n",
    "#pg.quit()\n",
    "# sys.exit()\n",
    "\n"
   ]
  },
  {
   "cell_type": "code",
   "execution_count": null,
   "metadata": {},
   "outputs": [],
   "source": []
  }
 ],
 "metadata": {
  "kernelspec": {
   "display_name": "Python 3 (ipykernel)",
   "language": "python",
   "name": "python3"
  },
  "language_info": {
   "codemirror_mode": {
    "name": "ipython",
    "version": 3
   },
   "file_extension": ".py",
   "mimetype": "text/x-python",
   "name": "python",
   "nbconvert_exporter": "python",
   "pygments_lexer": "ipython3",
   "version": "3.11.5"
  }
 },
 "nbformat": 4,
 "nbformat_minor": 4
}
