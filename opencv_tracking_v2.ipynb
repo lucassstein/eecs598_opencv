{
 "cells": [
  {
   "cell_type": "code",
   "execution_count": 1,
   "metadata": {},
   "outputs": [
    {
     "name": "stdout",
     "output_type": "stream",
     "text": [
      "Requirement already satisfied: opencv-python==3.4.18.65 in /Users/lukes/miniconda3/lib/python3.11/site-packages (3.4.18.65)\n",
      "Requirement already satisfied: numpy>=1.21.2 in /Users/lukes/miniconda3/lib/python3.11/site-packages (from opencv-python==3.4.18.65) (1.26.4)\n",
      "Note: you may need to restart the kernel to use updated packages.\n"
     ]
    }
   ],
   "source": [
    "pip install opencv-python==3.4.18.65"
   ]
  },
  {
   "cell_type": "code",
   "execution_count": 2,
   "metadata": {},
   "outputs": [],
   "source": [
    "import cv2\n",
    "import numpy as np"
   ]
  },
  {
   "cell_type": "code",
   "execution_count": null,
   "metadata": {},
   "outputs": [],
   "source": [
    "# init part\n",
    "face_cascade = cv2.CascadeClassifier('haarcascade_frontalface_default.xml')\n",
    "eye_cascade = cv2.CascadeClassifier('haarcascade_eye.xml')\n",
    "# detector_params = cv2.SimpleBlobDetector_Params()\n",
    "# detector_params.filterByArea = True\n",
    "# detector_params.maxArea = 1500\n",
    "# detector = cv2.SimpleBlobDetector_create(detector_params)\n",
    "\n",
    "# Setup SimpleBlobDetector parameters.\n",
    "params = cv2.SimpleBlobDetector_Params()\n",
    "\n",
    "#***PARAMETERS***#\n",
    "\n",
    "# Change thresholds (0 to 255) \n",
    "params.minThreshold = 0;\n",
    "params.maxThreshold = 255;\n",
    "\n",
    "#Area - area in terms of pixels\n",
    "params.filterByArea = False\n",
    "params.minArea = 1000\n",
    "      \n",
    "#Circularity - measures how close the blob to a circle\n",
    "params.filterByCircularity = True\n",
    "params.minCircularity = 0.95 #\"cicularity\" of a square = 0.785 , \"cicularity\" of a circle = 1.000\n",
    "\n",
    "#Color - 0 (select darker) to  255 (select lighter)\n",
    "params.filterByColor = True\n",
    "params.minCircularity = 50 \n",
    "\n",
    "#Convexity - (Area of the Blob / Area of it’s convex hull)\n",
    "params.filterByConvexity = False\n",
    "params.minConvexity = 0.87\n",
    "\n",
    "#Inertia - how elongated a shape is, 1 = circle, 0 = line\n",
    "params.filterByInertia = False\n",
    "params.minInertiaRatio = 0.95\n",
    "\n",
    "\n",
    "params.minRepeatability=1\n",
    "\n",
    "\n",
    "\n",
    "# def blob_process(img, threshold, detector):\n",
    "#     gray_frame = cv2.cvtColor(img, cv2.COLOR_BGR2GRAY)\n",
    "#     _, img = cv2.threshold(gray_frame, threshold, 255, cv2.THRESH_BINARY)\n",
    "#     img = cv2.erode(img, None, iterations=2)\n",
    "#     img = cv2.dilate(img, None, iterations=4)\n",
    "#     img = cv2.medianBlur(img, 5)\n",
    "#     keypoints = detector.detect(img)\n",
    "#     print(keypoints)\n",
    "#     return keypoints\n",
    "\n",
    "\n",
    "def nothing(x):\n",
    "    pass\n",
    "\n",
    "\n",
    "def main():\n",
    "    cap = cv2.VideoCapture(0)\n",
    "    cv2.namedWindow('image')\n",
    "    cv2.createTrackbar('threshold', 'image', 20, 100, nothing)\n",
    "    while True:\n",
    "        _, frame = cap.read()\n",
    "        threshold = r = cv2.getTrackbarPos('threshold', 'image')\n",
    "        if (threshold < 20):\n",
    "            threshold = 20\n",
    "        #print(\"Threshold Raw\")\n",
    "        #print(threshold)\n",
    "        threshold = threshold/100\n",
    "        #print(\"Threshold Percent\")\n",
    "        #print(threshold)\n",
    "\n",
    "        # Create a detector with the parameters\n",
    "\n",
    "        ver = (cv2.__version__).split('.')\n",
    "        if int(ver[0]) < 3 :\n",
    "          detector = cv2.SimpleBlobDetector(params)\n",
    "        else : \n",
    "          detector = cv2.SimpleBlobDetector_create(params)\n",
    "\n",
    "        keypoints = detector.detect(frame)\n",
    "        \n",
    "        #print(\"Keypoints\")\n",
    "        #print(keypoints)\n",
    "\n",
    "        \n",
    "        eye = cv2.drawKeypoints(frame, keypoints, frame, (0, 0, 255), cv2.DRAW_MATCHES_FLAGS_DRAW_RICH_KEYPOINTS)\n",
    "        #print(\"Eye\")\n",
    "        print(eye)\n",
    "\n",
    "        cv2.imshow('image', frame)\n",
    "        if cv2.waitKey(1) & 0xFF == ord('q'):\n",
    "            break\n",
    "    cap.release()\n",
    "    cv2.destroyAllWindows()\n",
    "\n",
    "\n",
    "if __name__ == \"__main__\":\n",
    "    main()"
   ]
  },
  {
   "cell_type": "code",
   "execution_count": null,
   "metadata": {},
   "outputs": [],
   "source": []
  },
  {
   "cell_type": "code",
   "execution_count": null,
   "metadata": {},
   "outputs": [],
   "source": []
  }
 ],
 "metadata": {
  "kernelspec": {
   "display_name": "Python 3 (ipykernel)",
   "language": "python",
   "name": "python3"
  },
  "language_info": {
   "codemirror_mode": {
    "name": "ipython",
    "version": 3
   },
   "file_extension": ".py",
   "mimetype": "text/x-python",
   "name": "python",
   "nbconvert_exporter": "python",
   "pygments_lexer": "ipython3",
   "version": "3.11.8"
  }
 },
 "nbformat": 4,
 "nbformat_minor": 4
}
